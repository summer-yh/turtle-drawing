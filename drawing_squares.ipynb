{
 "cells": [
  {
   "cell_type": "code",
   "execution_count": 1,
   "metadata": {},
   "outputs": [],
   "source": [
    "import turtle\n",
    "\n",
    "summer = turtle.Turtle()\n",
    "\n",
    "# summer.forward(100)\n",
    "# summer.left(45)\n",
    "# summer.forward(100)\n",
    "# summer.right(90)\n",
    "# summer.forward(100)\n",
    "\n",
    "summer.color(\"blue\",\"cyan\")\n",
    "\n",
    "summer.begin_fill()\n",
    "summer.forward(100)\n",
    "summer.left(90)\n",
    "summer.forward(100)\n",
    "summer.left(90)\n",
    "summer.forward(100)\n",
    "summer.left(90)\n",
    "summer.forward(100)\n",
    "summer.end_fill()\n",
    "\n",
    "\n",
    "summer.penup()\n",
    "summer.forward(150)\n",
    "summer.pendown()\n",
    "\n",
    "summer.begin_fill()\n",
    "summer.forward(100)\n",
    "summer.left(90)\n",
    "summer.forward(100)\n",
    "summer.left(90)\n",
    "summer.forward(100)\n",
    "summer.left(90)\n",
    "summer.forward(100)\n",
    "summer.end_fill()\n",
    "\n",
    "\n",
    "\n",
    "\n",
    "turtle.done()"
   ]
  },
  {
   "cell_type": "code",
   "execution_count": null,
   "metadata": {},
   "outputs": [],
   "source": []
  },
  {
   "cell_type": "code",
   "execution_count": null,
   "metadata": {},
   "outputs": [],
   "source": []
  }
 ],
 "metadata": {
  "kernelspec": {
   "display_name": "Python 3",
   "language": "python",
   "name": "python3"
  },
  "language_info": {
   "codemirror_mode": {
    "name": "ipython",
    "version": 3
   },
   "file_extension": ".py",
   "mimetype": "text/x-python",
   "name": "python",
   "nbconvert_exporter": "python",
   "pygments_lexer": "ipython3",
   "version": "3.7.6"
  }
 },
 "nbformat": 4,
 "nbformat_minor": 4
}
