{
 "cells": [
  {
   "cell_type": "code",
   "execution_count": null,
   "metadata": {},
   "outputs": [],
   "source": []
  },
  {
   "cell_type": "code",
   "execution_count": null,
   "metadata": {},
   "outputs": [],
   "source": []
  },
  {
   "cell_type": "code",
   "execution_count": 1,
   "metadata": {},
   "outputs": [],
   "source": [
    "import turtle\n",
    "import math\n",
    "\n",
    "summer = turtle.Turtle()   \n",
    "color = [\"red\", \"orange\" ,\"yellow\" ,\"green\" ,\"cyan\", \"purple\"]\n",
    "def diamond(size):\n",
    "    summer.left(60)\n",
    "    summer.forward(size)\n",
    "    summer.left(60)\n",
    "    summer.forward(size)\n",
    "    summer.left(120)\n",
    "    summer.forward(size)\n",
    "    summer.left(60)\n",
    "    summer.forward(size)\n",
    "     \n",
    "turtle.speed(0)  \n",
    " \n",
    "        \n",
    "summer.circle(80)\n",
    "for k in range(8):\n",
    "    for i in range(6):\n",
    "        diamond(20)\n",
    "        summer.pencolor(color[i])\n",
    "    summer.penup()\n",
    "    summer.left(90+45*k)    \n",
    "    summer.forward(80)\n",
    "    summer.right(135)\n",
    "    summer.forward(80)\n",
    "    summer.left(45*(1-k))\n",
    "    summer.pendown()\n",
    "    \n",
    "\n",
    "        \n",
    "    \n",
    "turtle.done()"
   ]
  },
  {
   "cell_type": "code",
   "execution_count": null,
   "metadata": {},
   "outputs": [],
   "source": []
  }
 ],
 "metadata": {
  "kernelspec": {
   "display_name": "Python 3",
   "language": "python",
   "name": "python3"
  },
  "language_info": {
   "codemirror_mode": {
    "name": "ipython",
    "version": 3
   },
   "file_extension": ".py",
   "mimetype": "text/x-python",
   "name": "python",
   "nbconvert_exporter": "python",
   "pygments_lexer": "ipython3",
   "version": "3.7.6"
  }
 },
 "nbformat": 4,
 "nbformat_minor": 4
}
