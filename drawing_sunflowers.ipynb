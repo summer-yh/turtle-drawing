{
 "cells": [
  {
   "cell_type": "code",
   "execution_count": null,
   "metadata": {},
   "outputs": [],
   "source": [
    "import turtle\n",
    "import math\n",
    "\n",
    "summer = turtle.Turtle()\n",
    "\n",
    "# summer.forward(100)\n",
    "# summer.left(45)\n",
    "# summer.forward(100)\n",
    "# summer.right(90)\n",
    "# summer.forward(100)\n",
    "\n",
    "color = ['red','orange','yellow','green','cyan','purple']\n",
    "summer.speed(30)\n",
    "\n",
    "for i in range (100):\n",
    "    summer.forward(300)\n",
    "    summer.left(173.9)    \n",
    "summer.pencolor(colors[i%6])\n",
    "turtle.done()"
   ]
  },
  {
   "cell_type": "code",
   "execution_count": null,
   "metadata": {},
   "outputs": [],
   "source": []
  },
  {
   "cell_type": "code",
   "execution_count": null,
   "metadata": {},
   "outputs": [],
   "source": []
  }
 ],
 "metadata": {
  "kernelspec": {
   "display_name": "Python 3",
   "language": "python",
   "name": "python3"
  }
 },
 "nbformat": 4,
 "nbformat_minor": 4
}
