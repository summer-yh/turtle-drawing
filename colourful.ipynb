{
 "cells": [
  {
   "cell_type": "code",
   "execution_count": 1,
   "metadata": {},
   "outputs": [],
   "source": [
    "import turtle\n",
    "\n",
    "turtle.bgcolor(\"black\")\n",
    "turtle.pensize(2)\n",
    "turtle.speed(0)\n",
    "\n",
    "for i in range(6):\n",
    "    for colours in [\"red\", \"magenta\" ,\"cyan\" ,\"green\" ,\"yellow\" ,\"white\"]:\n",
    "        turtle.color(colours)\n",
    "        turtle.circle(100)\n",
    "        turtle.left(10)\n",
    "        \n",
    "turtle.hideturtle()"
   ]
  },
  {
   "cell_type": "code",
   "execution_count": null,
   "metadata": {},
   "outputs": [],
   "source": []
  }
 ],
 "metadata": {
  "kernelspec": {
   "display_name": "Python 3",
   "language": "python",
   "name": "python3"
  },
  "language_info": {
   "codemirror_mode": {
    "name": "ipython",
    "version": 3
   },
   "file_extension": ".py",
   "mimetype": "text/x-python",
   "name": "python",
   "nbconvert_exporter": "python",
   "pygments_lexer": "ipython3",
   "version": "3.7.6"
  }
 },
 "nbformat": 4,
 "nbformat_minor": 4
}
