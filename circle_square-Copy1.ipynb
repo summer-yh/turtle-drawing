{
 "cells": [
  {
   "cell_type": "code",
   "execution_count": null,
   "metadata": {},
   "outputs": [],
   "source": [
    "import turtle\n",
    "t = turtle.Turtle()\n",
    "s = turtle.Screen()\n",
    "s.bgcolor(\"black\")\n",
    "t.pencolor(\"white\")\n",
    "t.speed(0)\n",
    "c = 0\n",
    "d = 0\n",
    "while True:\n",
    "    for i in range(4):\n",
    "        t.forward(80)\n",
    "        t.right(90)\n",
    "        \n",
    "    t.right(15)\n",
    "    c +=1\n",
    "    if c>= 26:\n",
    "        t.forward(50)\n",
    "        c = 0\n",
    "        d +=1\n",
    "        if d>=12:\n",
    "            break\n",
    "t.hideturtle()\n",
    "\n",
    "\n",
    "turtle.done()"
   ]
  },
  {
   "cell_type": "code",
   "execution_count": null,
   "metadata": {},
   "outputs": [],
   "source": []
  },
  {
   "cell_type": "code",
   "execution_count": null,
   "metadata": {},
   "outputs": [],
   "source": []
  },
  {
   "cell_type": "code",
   "execution_count": null,
   "metadata": {},
   "outputs": [],
   "source": []
  }
 ],
 "metadata": {
  "kernelspec": {
   "display_name": "Python 3",
   "language": "python",
   "name": "python3"
  },
  "language_info": {
   "codemirror_mode": {
    "name": "ipython",
    "version": 3
   },
   "file_extension": ".py",
   "mimetype": "text/x-python",
   "name": "python",
   "nbconvert_exporter": "python",
   "pygments_lexer": "ipython3",
   "version": "3.7.6"
  }
 },
 "nbformat": 4,
 "nbformat_minor": 4
}
