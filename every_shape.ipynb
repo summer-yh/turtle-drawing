{
 "cells": [
  {
   "cell_type": "code",
   "execution_count": 1,
   "metadata": {},
   "outputs": [],
   "source": [
    "import turtle\n",
    "import math\n",
    "\n",
    "\n",
    "summer = turtle.Turtle()\n",
    "\n",
    "def star(size):\n",
    "    for i in range(5):\n",
    "        summer.left(216)\n",
    "        summer.forward(size)\n",
    "\n",
    "def triangle(size):\n",
    "    for i in range(3):\n",
    "        summer.forward(size)\n",
    "        summer.left(120)\n",
    "\n",
    "def square(size):\n",
    "    for i in range(4):\n",
    "        summer.forward(100)\n",
    "    #star(100)\n",
    "        summer.left(90)\n",
    "\n",
    "def talloval(r):\n",
    "    for i in range(10):\n",
    "        turtle.left(45)\n",
    "        for loop in range(2):      \n",
    "            turtle.circle(r,90)    \n",
    "            turtle.circle(r/2,90)\n",
    "        \n",
    "        \n",
    "def diamond(size):\n",
    "    for i in range(6):\n",
    "        summer.left(60)\n",
    "        summer.forward(size)\n",
    "        summer.left(60)\n",
    "        summer.forward(size)\n",
    "        summer.left(120)\n",
    "        summer.forward(size)\n",
    "        summer.left(60)\n",
    "        summer.forward(size)\n",
    "        \n",
    "def love_heart(size):\n",
    "    summer.left(150)\n",
    "    summer.forward(size)\n",
    "    summer.circle(-90,180)\n",
    "    summer.setheading(60)\n",
    "    summer.circle(-90,180)\n",
    "    summer.forward(size)\n",
    "\n",
    "        \n",
    "turtle.speed(0)     \n",
    "for i in range(5):\n",
    "    talloval((i+1)*50)        \n",
    "    diamond((i+1)*50)\n",
    "\n",
    "turtle.done()"
   ]
  },
  {
   "cell_type": "code",
   "execution_count": null,
   "metadata": {},
   "outputs": [],
   "source": []
  },
  {
   "cell_type": "code",
   "execution_count": null,
   "metadata": {},
   "outputs": [],
   "source": []
  },
  {
   "cell_type": "code",
   "execution_count": null,
   "metadata": {},
   "outputs": [],
   "source": []
  }
 ],
 "metadata": {
  "kernelspec": {
   "display_name": "Python 3",
   "language": "python",
   "name": "python3"
  },
  "language_info": {
   "codemirror_mode": {
    "name": "ipython",
    "version": 3
   },
   "file_extension": ".py",
   "mimetype": "text/x-python",
   "name": "python",
   "nbconvert_exporter": "python",
   "pygments_lexer": "ipython3",
   "version": "3.7.6"
  }
 },
 "nbformat": 4,
 "nbformat_minor": 4
}
