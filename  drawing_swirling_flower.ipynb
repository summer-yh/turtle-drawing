{
 "cells": [
  {
   "cell_type": "code",
   "execution_count": null,
   "metadata": {},
   "outputs": [],
   "source": [
    "import turtle\n",
    "import math\n",
    "\n",
    "summer = turtle.Turtle()\n",
    "\n",
    "# summer.forward(100)\n",
    "# summer.left(45)\n",
    "# summer.forward(100)\n",
    "# summer.right(90)\n",
    "# summer.forward(100)\n",
    "\n",
    "summer.color(\"blue\",\"cyan\")\n",
    "summer.speed(30)\n",
    "\n",
    "for i in range (2000):\n",
    "    summer.forward(math.sqrt(i))\n",
    "    summer.left(i%180)\n",
    "    \n",
    "\n",
    "turtle.done()"
   ]
  },
  {
   "cell_type": "code",
   "execution_count": null,
   "metadata": {},
   "outputs": [],
   "source": []
  },
  {
   "cell_type": "code",
   "execution_count": null,
   "metadata": {},
   "outputs": [],
   "source": []
  }
 ],
 "metadata": {
  "kernelspec": {
   "display_name": "Python 3",
   "language": "python",
   "name": "python3"
  },
  "language_info": {
   "codemirror_mode": {
    "name": "ipython",
    "version": 3
   },
   "file_extension": ".py",
   "mimetype": "text/x-python",
   "name": "python",
   "nbconvert_exporter": "python",
   "pygments_lexer": "ipython3",
   "version": "3.7.6"
  }
 },
 "nbformat": 4,
 "nbformat_minor": 4
}
