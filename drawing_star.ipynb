{
 "cells": [
  {
   "cell_type": "code",
   "execution_count": null,
   "metadata": {},
   "outputs": [],
   "source": [
    "import turtle\n",
    "import math\n",
    "\n",
    "summer = turtle.Turtle()\n",
    "summer.getscreen().bgcolor(\"#994444\")\n",
    "\n",
    "summer.speed(0)\n",
    "def star(turtle,size):\n",
    "    if size <= 10:\n",
    "        return\n",
    "    else:\n",
    "        for i in range(5):\n",
    "            turtle.forward(size)\n",
    "            star(turtle,size/3)\n",
    "            turtle.left(216)\n",
    "\n",
    "star(summer,360)    \n",
    "    \n",
    "turtle.done()"
   ]
  },
  {
   "cell_type": "code",
   "execution_count": null,
   "metadata": {},
   "outputs": [],
   "source": []
  },
  {
   "cell_type": "code",
   "execution_count": null,
   "metadata": {},
   "outputs": [],
   "source": []
  }
 ],
 "metadata": {
  "kernelspec": {
   "display_name": "Python 3",
   "language": "python",
   "name": "python3"
  },
  "language_info": {
   "codemirror_mode": {
    "name": "ipython",
    "version": 3
   },
   "file_extension": ".py",
   "mimetype": "text/x-python",
   "name": "python",
   "nbconvert_exporter": "python",
   "pygments_lexer": "ipython3",
   "version": "3.7.6"
  }
 },
 "nbformat": 4,
 "nbformat_minor": 4
}
