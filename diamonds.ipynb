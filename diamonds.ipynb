{
 "cells": [
  {
   "cell_type": "code",
   "execution_count": null,
   "metadata": {},
   "outputs": [],
   "source": [
    "import turtle\n",
    "summer = turtle.Turtle()\n",
    "\n",
    "def diamond(size):\n",
    "    summer.left(60)\n",
    "    summer.forward(size)\n",
    "    summer.left(60)\n",
    "    summer.forward(size)\n",
    "    summer.left(120)\n",
    "    summer.forward(size)\n",
    "    summer.left(60)\n",
    "    summer.forward(size)\n",
    "colors = ['red','orange','yellow','green','blue','purple']\n",
    "for k in range(5):\n",
    "    for i in range(6):\n",
    "        diamond(30*k)\n",
    "        summer._rotate(8)\n",
    "        summer.right(15)\n",
    "        summer.pencolor(colors[i%6])\n",
    "        \n",
    "        \n",
    "\n",
    "turtle.done()\n",
    "    "
   ]
  },
  {
   "cell_type": "code",
   "execution_count": null,
   "metadata": {},
   "outputs": [],
   "source": []
  },
  {
   "cell_type": "code",
   "execution_count": null,
   "metadata": {},
   "outputs": [],
   "source": []
  }
 ],
 "metadata": {
  "kernelspec": {
   "display_name": "Python 3",
   "language": "python",
   "name": "python3"
  },
  "language_info": {
   "codemirror_mode": {
    "name": "ipython",
    "version": 3
   },
   "file_extension": ".py",
   "mimetype": "text/x-python",
   "name": "python",
   "nbconvert_exporter": "python",
   "pygments_lexer": "ipython3",
   "version": "3.7.6"
  }
 },
 "nbformat": 4,
 "nbformat_minor": 4
}
